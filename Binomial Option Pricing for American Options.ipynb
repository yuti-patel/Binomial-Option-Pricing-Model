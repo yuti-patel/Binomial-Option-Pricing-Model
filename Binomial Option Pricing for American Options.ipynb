{
 "cells": [
  {
   "cell_type": "code",
   "execution_count": 6,
   "id": "3f1b0c81",
   "metadata": {},
   "outputs": [],
   "source": [
    "import numpy as np"
   ]
  },
  {
   "cell_type": "code",
   "execution_count": 7,
   "id": "aff7fc44",
   "metadata": {},
   "outputs": [],
   "source": [
    "#initial Parameters \n",
    "\n",
    "Si = 100\n",
    "k =100\n",
    "t = 1 \n",
    "r = 0.06\n",
    "n = 3 \n",
    "u = 1.1 \n",
    "d = 1/u \n",
    "option_type = \"P\""
   ]
  },
  {
   "cell_type": "code",
   "execution_count": 15,
   "id": "61696c1d",
   "metadata": {},
   "outputs": [
    {
     "data": {
      "text/plain": [
       "4.654588754602527"
      ]
     },
     "execution_count": 15,
     "metadata": {},
     "output_type": "execute_result"
    }
   ],
   "source": [
    "def american_slow_tree(Si,k,t,r,n,u,d,option_type = \"P\"):\n",
    "    \n",
    "    #precompute values\n",
    "    dt = t/n\n",
    "    q = (np.exp(r*dt) - d)/(u-d)\n",
    "    disc_rate = np.exp(-r*dt)\n",
    "    \n",
    "    #intialize stock prices at maturity \n",
    "    S = np.zeros(n+1)\n",
    "    for j in range(0, n+1):\n",
    "        S[j] = (Si)*(u**j)*(d**(n-j))\n",
    "        \n",
    "    #option payoff \n",
    "    C = np.zeros(n+1)\n",
    "    for j in range(0,n+1):\n",
    "        if option_type ==\"P\":\n",
    "            C[j] = max(0, k - S[j])\n",
    "        else:\n",
    "            C[j] = max(0,  S[j]-k)  \n",
    "            \n",
    "    #backward recursion \n",
    "    for i in np.arange(n-1,-1,-1):\n",
    "        for j in range(0,i+1):\n",
    "            S[j] = (Si)*(u**j)*(d**(i-j))\n",
    "            C[j] = disc_rate * (q*C[j+1] + (1-q)*C[j])\n",
    "            if option_type ==\"P\":\n",
    "                C[j] = max(C[j], k - S[j])\n",
    "            else:\n",
    "                C[j] = max(C[j],  S[j]-k)  \n",
    "                \n",
    "    return C[0]\n",
    "\n",
    "american_slow_tree(Si,k,t,r,n,u,d,option_type = \"P\")           \n"
   ]
  },
  {
   "cell_type": "code",
   "execution_count": 1,
   "id": "15c064c1",
   "metadata": {},
   "outputs": [
    {
     "ename": "SyntaxError",
     "evalue": "invalid syntax (1703262729.py, line 14)",
     "output_type": "error",
     "traceback": [
      "\u001b[0;36m  Input \u001b[0;32mIn [1]\u001b[0;36m\u001b[0m\n\u001b[0;31m    C = np.maximum(0, k - S)\u001b[0m\n\u001b[0m    ^\u001b[0m\n\u001b[0;31mSyntaxError\u001b[0m\u001b[0;31m:\u001b[0m invalid syntax\n"
     ]
    }
   ],
   "source": [
    "def american_fast_tree(Si,k,t,r,n,u,d,option_type = \"P\"):\n",
    "    \n",
    "    #precompute values\n",
    "    dt = t/n\n",
    "    q = (np.exp(r*dt) - d)/(u-d)\n",
    "    disc_rate = np.exp(-r*dt)\n",
    "    \n",
    "    #intialize stock prices at maturity \n",
    "    S = Si * (u**(np.arange(0,n+1,1)) * (d**(np.arange(n,-1,-1))\n",
    "    \n",
    "        \n",
    "    #option payoff \n",
    "    if option_type ==\"P\"\n",
    "        C = np.maximum(0, k - S)\n",
    "    else:\n",
    "        C = np.maximum(0, S - k)  \n",
    "            \n",
    "    #backward recursion \n",
    "    for i in np.arange(n-1,-1,-1):\n",
    "        \n",
    "        S= Si * (u**np.arange(0,i+1,1)) * (d**np.arange(i,-1,-1))\n",
    "        C[0:i+1] = disc_rate * (q*C[1:i+2] + (1-q)*C[0:i+1])\n",
    "        C = C[:-1]\n",
    "        if option_type ==\"P\":\n",
    "            C = np.maximum(C, k - S)\n",
    "        else:\n",
    "            C = np.maximum(C,  S - k)  \n",
    "                \n",
    "    return C[0]\n",
    "\n",
    "american_fast_tree(Si,k,t,r,n,u,d,option_type = \"P\")           \n"
   ]
  },
  {
   "cell_type": "code",
   "execution_count": null,
   "id": "fd612f67",
   "metadata": {},
   "outputs": [],
   "source": []
  }
 ],
 "metadata": {
  "kernelspec": {
   "display_name": "Python 3 (ipykernel)",
   "language": "python",
   "name": "python3"
  },
  "language_info": {
   "codemirror_mode": {
    "name": "ipython",
    "version": 3
   },
   "file_extension": ".py",
   "mimetype": "text/x-python",
   "name": "python",
   "nbconvert_exporter": "python",
   "pygments_lexer": "ipython3",
   "version": "3.9.12"
  }
 },
 "nbformat": 4,
 "nbformat_minor": 5
}
