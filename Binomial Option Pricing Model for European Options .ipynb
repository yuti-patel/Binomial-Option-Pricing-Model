{
 "cells": [
  {
   "cell_type": "code",
   "execution_count": 2,
   "id": "267e433b",
   "metadata": {},
   "outputs": [],
   "source": [
    "import numpy as np "
   ]
  },
  {
   "cell_type": "code",
   "execution_count": 3,
   "id": "4f0d04fe",
   "metadata": {},
   "outputs": [],
   "source": [
    "#initial parameters \n",
    "Si = 100 #initial stock price \n",
    "k = 100 #initial strike price \n",
    "t = 1 #maturity time in years \n",
    "r = 0.06 #annual risk-free rate \n",
    "n = 3 #number of steps in the tree\n",
    "u = 1.1 # up fsctor of the model \n",
    "d = 1/u #down factor of the model \n",
    "option_type = 'Call'\n"
   ]
  },
  {
   "cell_type": "code",
   "execution_count": 7,
   "id": "9ef41d04",
   "metadata": {},
   "outputs": [
    {
     "data": {
      "text/plain": [
       "10.145735799928817"
      ]
     },
     "execution_count": 7,
     "metadata": {},
     "output_type": "execute_result"
    }
   ],
   "source": [
    "#For Loop aproach\n",
    "\n",
    "def binomial_tree(Si, k , t, r, n, u, d, option_type = 'Call'):\n",
    "    \n",
    "    #calucltaing the constants needed\n",
    "    dt = t/n #time interval for singular branches \n",
    "    q = (np.exp(r*dt) - d)/(u - d)\n",
    "    rate_disc = np.exp(-r*dt)\n",
    "    \n",
    "    #initialize the prices at maturity (i.e. at time n)\n",
    "    S = np.zeros(n+1) \n",
    "    S[0] = Si*(d**n)\n",
    "    for j in range(1, n +1 ):\n",
    "        S[j] = S[j-1]*u/d\n",
    "        \n",
    "    #initializing option values as maturity \n",
    "    C = np.zeros(n+1) \n",
    "    for j in range(1, n +1 ):\n",
    "        C[j] = max(0, S[j]-k)\n",
    "    \n",
    "    #traversing the tree backwards \n",
    "    for i in np.arange(n, 0, -1):\n",
    "        for j in range(0, i):\n",
    "            C[j] = rate_disc*(q*C[j+1] + (1-q)*C[j])\n",
    "            \n",
    "    return C[0]\n",
    "    \n",
    "binomial_tree(Si, k , t, r, n, u, d, option_type = 'Call')"
   ]
  },
  {
   "cell_type": "code",
   "execution_count": 10,
   "id": "d662653e",
   "metadata": {},
   "outputs": [
    {
     "data": {
      "text/plain": [
       "10.145735799928826"
      ]
     },
     "execution_count": 10,
     "metadata": {},
     "output_type": "execute_result"
    }
   ],
   "source": [
    "#vectrozing the array to make the program efficient \n",
    "\n",
    "def binomial_tree(Si, k , t, r, n, u, d, option_type = 'Call'):\n",
    "    \n",
    "    #calucltaing the constants needed\n",
    "    dt = t/n #time interval for singular branches \n",
    "    q = (np.exp(r*dt) - d)/(u - d)\n",
    "    rate_disc = np.exp(-r*dt)\n",
    "    \n",
    "    #initialize the prices at maturity (i.e. at time n)\n",
    "    C = Si*(d**np.arange(n,-1,-1))*(u**np.arange(0,n+1,1))\n",
    "        \n",
    "    #initializing option values as maturity \n",
    "    C = np.maximum(C-k, np.zeros(n+1))\n",
    "    #traversing the tree backwards \n",
    "    for i in np.arange(n, 0, -1):\n",
    "        C = rate_disc*(q*C[1:i+1] + (1-q)*C[0:i])\n",
    "    return C[0]\n",
    "    \n",
    "binomial_tree(Si, k , t, r, n, u, d, option_type = 'Call')"
   ]
  },
  {
   "cell_type": "code",
   "execution_count": null,
   "id": "6598e9f0",
   "metadata": {},
   "outputs": [],
   "source": []
  },
  {
   "cell_type": "code",
   "execution_count": null,
   "id": "c8d40f0e",
   "metadata": {},
   "outputs": [],
   "source": []
  }
 ],
 "metadata": {
  "kernelspec": {
   "display_name": "Python 3 (ipykernel)",
   "language": "python",
   "name": "python3"
  },
  "language_info": {
   "codemirror_mode": {
    "name": "ipython",
    "version": 3
   },
   "file_extension": ".py",
   "mimetype": "text/x-python",
   "name": "python",
   "nbconvert_exporter": "python",
   "pygments_lexer": "ipython3",
   "version": "3.9.12"
  }
 },
 "nbformat": 4,
 "nbformat_minor": 5
}
